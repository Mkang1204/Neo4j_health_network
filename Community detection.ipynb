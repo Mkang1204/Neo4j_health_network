{
 "cells": [
  {
   "cell_type": "code",
   "execution_count": 21,
   "metadata": {},
   "outputs": [
    {
     "data": {
      "text/plain": [
       "[[0, 1, 2, 3, 4], [5], [6, 7, 8, 9, 10]]"
      ]
     },
     "execution_count": 21,
     "metadata": {},
     "output_type": "execute_result"
    }
   ],
   "source": [
    "import networkx as nx\n",
    "import pandas as pd\n",
    "import numpy as np\n",
    "import scipy\n",
    "import matplotlib.pyplot as plt\n",
    "from matplotlib import rcParams\n",
    "import seaborn as sb\n",
    "\n",
    "%matplotlib inline\n",
    "rcParams['figure.figsize'] = 16,9\n",
    "\n",
    "\n",
    "\n",
    "\n",
    "\n",
    "from networkx.algorithms import community\n",
    "G = nx.barbell_graph(5, 1)\n",
    "communities_generator = community.girvan_newman(G)\n",
    "top_level_communities = next(communities_generator)\n",
    "next_level_communities = next(communities_generator)\n",
    "sorted(map(sorted, next_level_communities))"
   ]
  },
  {
   "cell_type": "code",
   "execution_count": 2,
   "metadata": {},
   "outputs": [
    {
     "data": {
      "text/plain": [
       "[8, 14, 15, 18, 20, 22, 23, 24, 25, 26, 27, 28, 29, 30, 31, 32, 33]"
      ]
     },
     "execution_count": 2,
     "metadata": {},
     "output_type": "execute_result"
    }
   ],
   "source": [
    "from networkx.algorithms.community import greedy_modularity_communities\n",
    "G = nx.karate_club_graph()\n",
    "c = list(greedy_modularity_communities(G))\n",
    "sorted(c[0])\n"
   ]
  },
  {
   "cell_type": "code",
   "execution_count": 12,
   "metadata": {},
   "outputs": [],
   "source": [
    "address = '~/Box/NUCATS/test_network/nondrugs_prov_pairs1220_withSPOR.csv'\n",
    "data = pd.read_csv(address)"
   ]
  },
  {
   "cell_type": "code",
   "execution_count": 13,
   "metadata": {},
   "outputs": [
    {
     "data": {
      "text/plain": [
       "<bound method NDFrame.head of              prov1         prov2  spor_actual\n",
       "0     NDQxMzg0OTg=  MjE1MTUyMg==     1.049539\n",
       "1     NDQxMzg0OTg=  MjE1MTUyMg==     1.049539\n",
       "2     NDQxMzg0OTg=  MjE1MTUyMg==     1.049539\n",
       "3     NDQxMzg0OTg=  MjE1MTUyMg==     1.049539\n",
       "4     NDQxMzg0OTg=  MjE1MTUyMg==     1.049539\n",
       "5     NDQxMzg0OTg=  MjE1MTUyMg==     1.049539\n",
       "6     NDQxMzg0OTg=  MjE1MTUyMg==     1.049539\n",
       "7     NDQxMzg0OTg=  MjE1MTUyMg==     1.049539\n",
       "8     NDQxMzg0OTg=  MjE1MTUyMg==     1.049539\n",
       "9     NDQxMzg0OTg=  MjE1MTUyMg==     1.049539\n",
       "10    NDQxMzg0OTg=  MjE1MTUyMg==     1.049539\n",
       "11    NDQxMzg0OTg=  MjE1MTUyMg==     1.049539\n",
       "12    NDQxMzg0OTg=  MjE1MTUyMg==     1.049539\n",
       "13    NDQxMzg0OTg=  MjE1MTUyMg==     1.049539\n",
       "14    NDQxMzg0OTg=  MjE1MTUyMg==     1.049539\n",
       "15    NDQxMzg0OTg=  MjE1MTUyMg==     1.049539\n",
       "16    MzQ3NzAxMzU=  Mjg1MzA3NTQ=     1.096862\n",
       "17    MzQ3NzAxMzU=  Mjg1MzA3NTQ=     1.096862\n",
       "18    MzQ3NzAxMzU=  Mjg1MzA3NTQ=     1.096862\n",
       "19    MzQ3NzAxMzU=  Mjg1MzA3NTQ=     1.096862\n",
       "20    MzQ3NzAxMzU=  Mjg1MzA3NTQ=     1.096862\n",
       "21    MzQ3NzAxMzU=  Mjg1MzA3NTQ=     1.096862\n",
       "22    MzQ3NzAxMzU=  Mjg1MzA3NTQ=     1.096862\n",
       "23    MzQ3NzAxMzU=  Mjg1MzA3NTQ=     1.096862\n",
       "24    MzQ3NzAxMzU=  Mjg1MzA3NTQ=     1.096862\n",
       "25    MzQ3NzAxMzU=  Mjg1MzA3NTQ=     1.096862\n",
       "26    MzQ3NzAxMzU=  Mjg1MzA3NTQ=     1.096862\n",
       "27    MzQ3NzAxMzU=  Mjg1MzA3NTQ=     1.096862\n",
       "28    MzQ3NzAxMzU=  Mjg1MzA3NTQ=     1.096862\n",
       "29        MzQwMTQ3  Mjg1MzA3NTQ=     0.892746\n",
       "...            ...           ...          ...\n",
       "4970  NDczMzIzNDQ=  MjgzNTAyODg=     1.009347\n",
       "4971  NDczMzIzNDQ=  MjgzNTAyODg=     1.009347\n",
       "4972  NDczMzIzNDQ=  MjgzNTAyODg=     1.009347\n",
       "4973  NDczMzIzNDQ=  MjgzNTAyODg=     1.009347\n",
       "4974  NDczMzIzNDQ=  MjgzNTAyODg=     1.009347\n",
       "4975  NDczMzIzNDQ=  MjgzNTAyODg=     1.009347\n",
       "4976  NDczMzIzNDQ=  MjgzNTAyODg=     1.009347\n",
       "4977  NDczMzIzNDQ=  MjgzNTAyODg=     1.009347\n",
       "4978  NDczNjAxMjE=  MjgzNTAyODg=     0.948946\n",
       "4979  NDczNjAxMjE=  MjgzNTAyODg=     0.948946\n",
       "4980  NDczNjAxMjE=  MjgzNTAyODg=     0.948946\n",
       "4981  NDczNjAxMjE=  MjgzNTAyODg=     0.948946\n",
       "4982  NDczNjAxMjE=  MjgzNTAyODg=     0.948946\n",
       "4983  NDczNjAxMjE=  MjgzNTAyODg=     0.948946\n",
       "4984  NDczNjAxMjE=  MjgzNTAyODg=     0.948946\n",
       "4985  NDczNjAxMjE=  MjgzNTAyODg=     0.948946\n",
       "4986  NDczNjAxMjE=  MjgzNTAyODg=     0.948946\n",
       "4987  NDczNjAxMjE=  MjgzNTAyODg=     0.948946\n",
       "4988  NDczNjAxMjE=  MjgzNTAyODg=     0.948946\n",
       "4989  NDczNjAxMjE=  MjgzNTAyODg=     0.948946\n",
       "4990  NDczNjAxMjE=  MjgzNTAyODg=     0.948946\n",
       "4991  NDczNjAyMDU=  MjgzNTAyODg=     0.978958\n",
       "4992  NDczNjAyMDU=  MjgzNTAyODg=     0.978958\n",
       "4993  NDczNjAyMDU=  MjgzNTAyODg=     0.978958\n",
       "4994  NDczNjAyMDU=  MjgzNTAyODg=     0.978958\n",
       "4995  NDczNjAyMDU=  MjgzNTAyODg=     0.978958\n",
       "4996  NDczNjAyMDU=  MjgzNTAyODg=     0.978958\n",
       "4997  NDczNjAyMDU=  MjgzNTAyODg=     0.978958\n",
       "4998  NDczNjAyMDU=  MjgzNTAyODg=     0.978958\n",
       "4999  NDczNjAyMDU=  MjgzNTAyODg=     0.978958\n",
       "\n",
       "[5000 rows x 3 columns]>"
      ]
     },
     "execution_count": 13,
     "metadata": {},
     "output_type": "execute_result"
    }
   ],
   "source": [
    "data.head"
   ]
  },
  {
   "cell_type": "code",
   "execution_count": 30,
   "metadata": {},
   "outputs": [
    {
     "data": {
      "text/plain": [
       "<seaborn.axisgrid.PairGrid at 0x1a1fc8e710>"
      ]
     },
     "execution_count": 30,
     "metadata": {},
     "output_type": "execute_result"
    },
    {
     "data": {
      "image/png": "[encoded data removed]",
      "text/plain": [
       "<Figure size 648x648 with 2 Axes>"
      ]
     },
     "metadata": {},
     "output_type": "display_data"
    }
   ],
   "source": [
    "sb.pairplot(data, size = 9)"
   ]
  },
  {
   "cell_type": "code",
   "execution_count": null,
   "metadata": {},
   "outputs": [],
   "source": []
  }
 ],
 "metadata": {
  "kernelspec": {
   "display_name": "Python 3",
   "language": "python",
   "name": "python3"
  },
  "language_info": {
   "codemirror_mode": {
    "name": "ipython",
    "version": 3
   },
   "file_extension": ".py",
   "mimetype": "text/x-python",
   "name": "python",
   "nbconvert_exporter": "python",
   "pygments_lexer": "ipython3",
   "version": "3.6.5"
  }
 },
 "nbformat": 4,
 "nbformat_minor": 2
}
